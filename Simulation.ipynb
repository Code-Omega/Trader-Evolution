{
 "cells": [
  {
   "cell_type": "code",
   "execution_count": 2,
   "metadata": {
    "ExecuteTime": {
     "end_time": "2018-11-22T22:14:53.787062Z",
     "start_time": "2018-11-22T22:14:51.604880Z"
    },
    "collapsed": true
   },
   "outputs": [],
   "source": [
    "% matplotlib inline\n",
    "import matplotlib.pyplot as plt\n",
    "\n",
    "import numpy as np\n",
    "from collections import namedtuple\n",
    "import heapq\n",
    "import seaborn as sns\n",
    "\n",
    "from market import SimulationClock\n",
    "from market import Exchange"
   ]
  },
  {
   "cell_type": "code",
   "execution_count": 28,
   "metadata": {
    "ExecuteTime": {
     "end_time": "2018-11-23T00:23:16.664923Z",
     "start_time": "2018-11-23T00:23:16.625422Z"
    },
    "code_folding": [],
    "collapsed": true
   },
   "outputs": [],
   "source": [
    "def bgt_scheduler( clock, FV, p_flex, lam, order_size_bound, trader):\n",
    "    order_type = 0\n",
    "    delta_t = np.random.exponential(lam)\n",
    "    quantity = np.random.randint(1,order_size_bound+1)*np.random.choice([-1,1])\n",
    "    price = FV + np.random.randint(-p_flex,p_flex+1)\n",
    "    heapq.heappush(event_queue,[clock.time+delta_t, price,quantity,trader,order_type])\n",
    "\n",
    "def mm_scheduler(a1, a2, a3, b1, b2, b3, c1, c2, c3, d1, d2, d3, clock, lam, ba, bb, lastprice, depth, trader):\n",
    "    order_type = 0\n",
    "    delta_t = np.random.exponential(lam)\n",
    "    if lastprice >= ba:\n",
    "        quantity = a1*(lastprice - ba) + b1*depth\n",
    "        price = c1*lastprice + d1*depth\n",
    "    elif lastprice < bb:\n",
    "        quantity = a2*(lastprice - bb) - b2*depth\n",
    "        price = c2*lastprice + d2*depth\n",
    "    else:\n",
    "        quantity = 0\n",
    "        price = c3*lastprice + d3*depth\n",
    "    \n",
    "    heapq.heappush(event_queue,[clock.time+delta_t, price, quantity, trader, order_type])\n",
    "    pass\n",
    "\n",
    "def mm1_scheduler(clock, e1, f1, ba, bb, trader):\n",
    "    order_type = 0\n",
    "    lam = e1\n",
    "    delta_t = np.random.exponential(lam)\n",
    "    buy_sell_sign = np.random.choice([-1,1])\n",
    "    if buy_sell_sign > 0:\n",
    "        price = bb\n",
    "        quantity = buy_sell_sign*f1\n",
    "    else:\n",
    "        price = ba\n",
    "        quantity = buy_sell_sign*f1\n",
    "    \n",
    "    heapq.heappush(event_queue,[clock.time+delta_t, price, quantity, trader, order_type])\n",
    "    pass\n",
    "\n"
   ]
  },
  {
   "cell_type": "code",
   "execution_count": null,
   "metadata": {
    "ExecuteTime": {
     "start_time": "2018-11-23T01:16:25.705Z"
    },
    "code_folding": [],
    "scrolled": false
   },
   "outputs": [
    {
     "name": "stdout",
     "output_type": "stream",
     "text": [
      "0\n",
      "[ 38.51853781  38.1702017   17.49275501  14.95775127  14.72964107\n",
      "  14.24994649  14.          13.51640339  11.5095246   10.72953414]\n",
      "[[  0.83020713  19.25926891]\n",
      " [  0.57364161  19.08510085]\n",
      " [  0.52960311  17.49275501]\n",
      " [  0.513502    14.95775127]\n",
      " [  0.59111861  14.72964107]\n",
      " [  0.97753702  14.24994649]\n",
      " [  0.5616465   14.81207049]\n",
      " [  0.6011306    6.75820169]\n",
      " [  0.77075637  11.5095246 ]\n",
      " [  0.5021326    5.36476707]]\n",
      "1\n"
     ]
    }
   ],
   "source": [
    "generations = 10\n",
    "population = 100\n",
    "selection = 10\n",
    "n_params = 2\n",
    "mutation_rate = 0.1\n",
    "\n",
    "\n",
    "sim_duration = 30\n",
    "burn_in = 10\n",
    "\n",
    "# parameters \n",
    "e1 = np.random.uniform(0.5,1,100)\n",
    "f1 = np.random.uniform(0,20,100)\n",
    "def mutate(idx):\n",
    "    if idx == 0:\n",
    "        return np.random.uniform(0.5,1)\n",
    "    elif idx == 1:\n",
    "        return np.random.uniform(0,10)\n",
    "\n",
    "population = list(zip(e1,f1))\n",
    "\n",
    "for gen in range(generations): \n",
    "# simulate\n",
    "    events = []\n",
    "    FVs = []\n",
    "    clk = SimulationClock()\n",
    "    exch = Exchange(clk)\n",
    "    BAs = []\n",
    "    BBs = []\n",
    "    t=0\n",
    "\n",
    "    order_size_bound = 10\n",
    "    FV = 10\n",
    "    p_flex = 3\n",
    "    p_reset = 0.01\n",
    "    lam_bgt = 0.5\n",
    "    lam_mm = 0.5\n",
    "\n",
    "    event_queue = []\n",
    "\n",
    "    #init\n",
    "    for trader in range(0,100):\n",
    "        bgt_scheduler(clk, FV, p_flex, lam_bgt, order_size_bound, trader)\n",
    "\n",
    "    #burn_in\n",
    "    while clk.time < burn_in:\n",
    "        # execute next event\n",
    "        event = heapq.heappop(event_queue)\n",
    "        event_time, price, quantity, trader, order_type = event\n",
    "        clk.time = event_time\n",
    "        exch.post(price, quantity, trader, order_type)\n",
    "        # reset FV\n",
    "        if trader < 100:\n",
    "            if np.random.rand(1) < p_reset:\n",
    "                FV = price\n",
    "        # schedule new event\n",
    "        bgt_scheduler(clk, FV, p_flex, lam_bgt, order_size_bound, trader)\n",
    "\n",
    "        # stats\n",
    "        events.append([clk.time,event[2],event[1]]) \n",
    "        FVs.append(FV)\n",
    "        ba = exch.get_best_ask()\n",
    "        bb = exch.get_best_bid()\n",
    "        if ba == None:\n",
    "            ba_price = 0\n",
    "        else:\n",
    "            ba_price = ba.price\n",
    "        if bb == None:\n",
    "            bb_price = 0\n",
    "        else:\n",
    "            bb_price = -bb.price\n",
    "        BAs.append(ba_price)\n",
    "        BBs.append(bb_price)\n",
    "\n",
    "    depth = BAs[-1] - BAs[-2] - BBs[-1] + BBs[-2]\n",
    "    \n",
    "    for trader in range(100,200):\n",
    "        k = trader - 100\n",
    "        params = population[k]\n",
    "        mm1_scheduler(clk, params[0], params[1], BAs[-1], BBs[-1], trader)\n",
    "\n",
    "    while clk.time < sim_duration:\n",
    "        # execute next event\n",
    "        event = heapq.heappop(event_queue)\n",
    "        event_time, price, quantity, trader, order_type = event\n",
    "        clk.time = event_time\n",
    "        exch.post(price, quantity, trader, order_type)\n",
    "        # reset FV\n",
    "        if trader < 100:\n",
    "            if np.random.rand(1) < p_reset:\n",
    "                FV = price\n",
    "\n",
    "        # stats\n",
    "        events.append([clk.time,event[2],event[1]]) \n",
    "        FVs.append(FV)\n",
    "        ba = exch.get_best_ask()\n",
    "        bb = exch.get_best_bid()\n",
    "        if ba == None:\n",
    "            ba_price = 0\n",
    "        else:\n",
    "            ba_price = ba.price\n",
    "        if bb == None:\n",
    "            bb_price = 0\n",
    "        else:\n",
    "            bb_price = -bb.price\n",
    "        BAs.append(ba_price)\n",
    "        BBs.append(bb_price)\n",
    "\n",
    "        depth = BAs[-1] - BAs[-2] - BBs[-1] + BBs[-2]\n",
    "\n",
    "        # schedule new event\n",
    "        if trader >= 100:\n",
    "            k = trader - 100\n",
    "            params = population[k]\n",
    "            mm1_scheduler(clk, params[0], params[1], BAs[-1], BBs[-1], trader)        \n",
    "        else:\n",
    "            bgt_scheduler(clk, FV, p_flex, lam_bgt, order_size_bound, trader)\n",
    "    \n",
    "    # profit calculation\n",
    "    trades = np.array(exch.trades)\n",
    "    profit=[]\n",
    "    for i in range(100,200):\n",
    "        profit.append(-sum(trades[trades[:,4]==i][:,3]*trades[trades[:,4]==i][:,6]*trades[trades[:,4]==i][:,2]) \n",
    "                      +sum(trades[trades[:,5]==i][:,3]*trades[trades[:,5]==i][:,6]*trades[trades[:,5]==i][:,2])\n",
    "                      +(sum(trades[trades[:,4]==i][:,3]*trades[trades[:,4]==i][:,6])\n",
    "                      -sum(trades[trades[:,5]==i][:,3]*trades[trades[:,5]==i][:,6]))*exch.lastprice)\n",
    "\n",
    "# evolution\n",
    "    profit = np.array(profit)\n",
    "    population = np.array(population)\n",
    "    top_traders = profit.argsort()[-selection:][::-1]\n",
    "    #print(top_traders)\n",
    "    top_profit = profit[top_traders]\n",
    "    top_params = population[top_traders]\n",
    "    \n",
    "    print(gen)\n",
    "    print(top_profit)\n",
    "    print(top_params)\n",
    "    \n",
    "    population = [[a,b] for a in top_params[:,0] for b in top_params[:,1]]\n",
    "    for i in range(len(population)):\n",
    "        for j in range(len(population[i])):\n",
    "            if np.random.rand(1) < mutation_rate:\n",
    "                population[i][j] = mutate(j)\n",
    "    #population\n",
    "    \n",
    "    \n"
   ]
  },
  {
   "cell_type": "code",
   "execution_count": 59,
   "metadata": {
    "ExecuteTime": {
     "end_time": "2018-11-23T01:04:20.477549Z",
     "start_time": "2018-11-23T01:04:20.467331Z"
    },
    "collapsed": true
   },
   "outputs": [],
   "source": [
    "trades = np.array(exch.trades)\n",
    "#exch.trades"
   ]
  },
  {
   "cell_type": "code",
   "execution_count": 60,
   "metadata": {
    "ExecuteTime": {
     "end_time": "2018-11-23T01:04:20.668567Z",
     "start_time": "2018-11-23T01:04:20.654842Z"
    },
    "collapsed": true
   },
   "outputs": [],
   "source": [
    "events = np.array(events)"
   ]
  },
  {
   "cell_type": "code",
   "execution_count": 61,
   "metadata": {
    "ExecuteTime": {
     "end_time": "2018-11-23T01:04:21.971666Z",
     "start_time": "2018-11-23T01:04:21.551954Z"
    }
   },
   "outputs": [
    {
     "data": {
      "text/plain": [
       "<matplotlib.legend.Legend at 0x10f1f54e0>"
      ]
     },
     "execution_count": 61,
     "metadata": {},
     "output_type": "execute_result"
    },
    {
     "data": {
      "image/png": "[encoded data removed]",
      "text/plain": [
       "<matplotlib.figure.Figure at 0x10f122cc0>"
      ]
     },
     "metadata": {},
     "output_type": "display_data"
    }
   ],
   "source": [
    "plt.plot(events[:,0],events[:,2], label = 'orders')\n",
    "plt.plot(trades[:,0],trades[:,2], label = 'trades')\n",
    "plt.plot(events[:,0],FVs, label = 'Fundamental Value')\n",
    "plt.plot(events[:,0],BAs, label = 'Best ask')\n",
    "plt.plot(events[:,0],BBs, label = 'Best bid')\n",
    "plt.legend()"
   ]
  },
  {
   "cell_type": "code",
   "execution_count": 131,
   "metadata": {
    "ExecuteTime": {
     "end_time": "2018-11-22T22:17:01.522505Z",
     "start_time": "2018-11-22T22:17:01.518901Z"
    },
    "collapsed": true
   },
   "outputs": [],
   "source": [
    "#list(zip(BAs,BBs))\n",
    "#np.sort(np.array(exch.bids,dtype = [('price', int), ('t', float), ('quantity', int), ('trader', int), ('order_type', int)]),order=['price','t'])\n",
    "#np.sort(np.array(exch.asks,dtype = [('price', int), ('t', float), ('quantity', int), ('trader', int), ('order_type', int)]),order=['price','t'])\n",
    "#len(events)"
   ]
  },
  {
   "cell_type": "code",
   "execution_count": null,
   "metadata": {
    "collapsed": true
   },
   "outputs": [],
   "source": []
  }
 ],
 "metadata": {
  "kernelspec": {
   "display_name": "Python [default]",
   "language": "python",
   "name": "python3"
  },
  "language_info": {
   "codemirror_mode": {
    "name": "ipython",
    "version": 3
   },
   "file_extension": ".py",
   "mimetype": "text/x-python",
   "name": "python",
   "nbconvert_exporter": "python",
   "pygments_lexer": "ipython3",
   "version": "3.5.3"
  },
  "varInspector": {
   "cols": {
    "lenName": 16,
    "lenType": 16,
    "lenVar": 40
   },
   "kernels_config": {
    "python": {
     "delete_cmd_postfix": "",
     "delete_cmd_prefix": "del ",
     "library": "var_list.py",
     "varRefreshCmd": "print(var_dic_list())"
    },
    "r": {
     "delete_cmd_postfix": ") ",
     "delete_cmd_prefix": "rm(",
     "library": "var_list.r",
     "varRefreshCmd": "cat(var_dic_list()) "
    }
   },
   "types_to_exclude": [
    "module",
    "function",
    "builtin_function_or_method",
    "instance",
    "_Feature"
   ],
   "window_display": false
  }
 },
 "nbformat": 4,
 "nbformat_minor": 2
}
