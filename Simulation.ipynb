{
 "cells": [
  {
   "cell_type": "code",
   "execution_count": 1,
   "metadata": {
    "ExecuteTime": {
     "end_time": "2018-11-22T22:14:53.787062Z",
     "start_time": "2018-11-22T22:14:51.604880Z"
    },
    "collapsed": true
   },
   "outputs": [],
   "source": [
    "% matplotlib inline\n",
    "import matplotlib.pyplot as plt\n",
    "\n",
    "import numpy as np\n",
    "from collections import namedtuple\n",
    "import heapq\n",
    "import seaborn as sns\n",
    "\n",
    "from market import SimulationClock\n",
    "from market import Exchange"
   ]
  },
  {
   "cell_type": "code",
   "execution_count": 2,
   "metadata": {
    "ExecuteTime": {
     "end_time": "2018-11-22T22:14:53.918623Z",
     "start_time": "2018-11-22T22:14:53.807278Z"
    },
    "collapsed": true
   },
   "outputs": [],
   "source": [
    "def bgt_scheduler( clock, FV, p_flex, lam, order_size_bound, trader):\n",
    "    order_type = 0\n",
    "    delta_t = np.random.exponential(lam)\n",
    "    quantity = np.random.randint(1,order_size_bound+1)*np.random.choice([-1,1])\n",
    "    price = FV + np.random.randint(-p_flex,p_flex+1)\n",
    "    heapq.heappush(event_queue,[clock.time+delta_t, price,quantity,trader,order_type])\n",
    "\n",
    "def mm_scheduler(a1, a2, a3, b1, b2, b3, c1, c2, c3, d1, d2, d3, clock, lam, ba, bb, lastprice, depth, trader):\n",
    "    order_type = 0\n",
    "    delta_t = np.random.exponential(lam)\n",
    "    if lastprice >= ba:\n",
    "        quantity = a1*(lastprice - ba) + b1*depth\n",
    "        price = c1*ba + d1*depth\n",
    "    elif lastprice < bb:\n",
    "        quantity = a2*(bb - lastprice) + b2*depth\n",
    "        price = c2*bb + d2*depth\n",
    "    else:\n",
    "        price = a3*lastprice + b3*depth\n",
    "        quantity = c3*(ba-bb) + d3*depth\n",
    "    \n",
    "    heapq.heappush(event_queue,[clock.time+delta_t, price, quantity, trader, order_type])\n",
    "    pass"
   ]
  },
  {
   "cell_type": "code",
   "execution_count": 3,
   "metadata": {
    "ExecuteTime": {
     "end_time": "2018-11-22T22:16:45.986084Z",
     "start_time": "2018-11-22T22:16:44.668855Z"
    },
    "collapsed": true
   },
   "outputs": [],
   "source": [
    "# simple order generation\n",
    "\n",
    "sim_duration = 30\n",
    "burn_in = 10\n",
    "\n",
    "events = []\n",
    "FVs = []\n",
    "clk = SimulationClock()\n",
    "exch = Exchange(clk)\n",
    "BAs = []\n",
    "BBs = []\n",
    "t=0\n",
    "\n",
    "order_size_bound = 10\n",
    "FV = 10\n",
    "p_flex = 3\n",
    "p_reset = 0.01\n",
    "lam_bgt = 0.5\n",
    "lam_mm = 0.5\n",
    "\n",
    "event_queue = []\n",
    "\n",
    "#init\n",
    "for trader in range(0,10):\n",
    "    bgt_scheduler(clk, FV, p_flex, lam_bgt, order_size_bound, trader)\n",
    "\n",
    "\n",
    "\n",
    "#burn_in\n",
    "while clk.time < burn_in:\n",
    "    # execute next event\n",
    "    event = heapq.heappop(event_queue)\n",
    "    event_time, price, quantity, trader, order_type = event\n",
    "    clk.time = event_time\n",
    "    exch.post(price, quantity, trader, order_type)\n",
    "    # reset FV\n",
    "    if np.random.rand(1) < p_reset:\n",
    "        FV = price\n",
    "    # schedule new event\n",
    "    bgt_scheduler(clk, FV, p_flex, lam_bgt, order_size_bound, trader)\n",
    "    \n",
    "    # stats\n",
    "    events.append([clk.time,event[2],event[1]]) \n",
    "    FVs.append(FV)\n",
    "    ba = exch.get_best_ask()\n",
    "    bb = exch.get_best_bid()\n",
    "    if ba == None:\n",
    "        ba_price = 0\n",
    "    else:\n",
    "        ba_price = ba.price\n",
    "    if bb == None:\n",
    "        bb_price = 0\n",
    "    else:\n",
    "        bb_price = -bb.price\n",
    "    BAs.append(ba_price)\n",
    "    BBs.append(bb_price)\n",
    "\n",
    "depth = BAs[-1] - BAs[-2] - BBs[-1] + BBs[-2]\n",
    "\n",
    "a1 = np.random.uniform(0,2,100)\n",
    "a2 = np.random.uniform(0,2,100)\n",
    "a3 = np.random.uniform(0,2,100)\n",
    "b1 = np.random.uniform(0,2,100)\n",
    "b2 = np.random.uniform(0,2,100)\n",
    "b3 = np.random.uniform(0,2,100)\n",
    "c1 = np.random.uniform(0,2,100)\n",
    "c2 = np.random.uniform(0,2,100)\n",
    "c3 = np.random.uniform(0,2,100)\n",
    "d1 = np.random.uniform(0,2,100)\n",
    "d2 = np.random.uniform(0,2,100)\n",
    "d3 = np.random.uniform(0,2,100)\n",
    "\n",
    "\n",
    "#running\n",
    "for trader in range(10,110):\n",
    "    k = trader - 10\n",
    "    mm_scheduler(a1[k], a2[k],a3[k], b1[k], b2[k], b3[k], c1[k], c2[k], c3[k], d1[k], d2[k], d3[k], clk, lam_mm, BAs[-1], BBs[-1], exch.lastprice, depth, trader)\n",
    "\n",
    "while clk.time < sim_duration:\n",
    "    # execute next event\n",
    "    event = heapq.heappop(event_queue)\n",
    "    event_time, price, quantity, trader, order_type = event\n",
    "    clk.time = event_time\n",
    "    exch.post(price, quantity, trader, order_type)\n",
    "    # reset FV\n",
    "    if np.random.rand(1) < p_reset:\n",
    "        FV = price\n",
    "\n",
    "    # stats\n",
    "    events.append([clk.time,event[2],event[1]]) \n",
    "    FVs.append(FV)\n",
    "    ba = exch.get_best_ask()\n",
    "    bb = exch.get_best_bid()\n",
    "    if ba == None:\n",
    "        ba_price = 0\n",
    "    else:\n",
    "        ba_price = ba.price\n",
    "    if bb == None:\n",
    "        bb_price = 0\n",
    "    else:\n",
    "        bb_price = -bb.price\n",
    "    BAs.append(ba_price)\n",
    "    BBs.append(bb_price)\n",
    "    \n",
    "    depth = BAs[-1] - BAs[-2] - BBs[-1] + BBs[-2]\n",
    "\n",
    "    # schedule new event\n",
    "    if trader >= 10:\n",
    "        k = trader - 10\n",
    "        mm_scheduler(a1[k], a2[k],a3[k], b1[k], b2[k], b3[k], c1[k], c2[k], c3[k], d1[k], d2[k], d3[k], clk, lam_mm, BAs[-1], BBs[-1], exch.lastprice, depth, trader)\n",
    "    else:\n",
    "        bgt_scheduler(clk, FV, p_flex, lam_bgt, order_size_bound, trader)"
   ]
  },
  {
   "cell_type": "code",
   "execution_count": 4,
   "metadata": {
    "ExecuteTime": {
     "end_time": "2018-11-22T22:16:51.832794Z",
     "start_time": "2018-11-22T22:16:51.810917Z"
    },
    "scrolled": true
   },
   "outputs": [],
   "source": [
    "# profit calculation\n",
    "trades = np.array(exch.trades)\n",
    "profit=[]\n",
    "for i in range(10,110):\n",
    "    profit.append(sum(trades[trades[:,4]==i][:,3]*trades[trades[:,4]==i][:,6]*trades[trades[:,4]==i][:,2]) + sum(trades[trades[:,5]==i][:,3]*trades[trades[:,5]==i][:,6]*trades[trades[:,5]==i][:,2]))\n",
    "#profit"
   ]
  },
  {
   "cell_type": "code",
   "execution_count": 5,
   "metadata": {
    "ExecuteTime": {
     "end_time": "2018-11-22T22:16:55.902851Z",
     "start_time": "2018-11-22T22:16:55.897651Z"
    }
   },
   "outputs": [],
   "source": [
    "trades = np.array(exch.trades)\n",
    "#exch.trades"
   ]
  },
  {
   "cell_type": "code",
   "execution_count": 6,
   "metadata": {
    "ExecuteTime": {
     "end_time": "2018-11-22T22:16:57.436659Z",
     "start_time": "2018-11-22T22:16:57.428394Z"
    },
    "collapsed": true
   },
   "outputs": [],
   "source": [
    "events = np.array(events)"
   ]
  },
  {
   "cell_type": "code",
   "execution_count": 7,
   "metadata": {
    "ExecuteTime": {
     "end_time": "2018-11-22T22:16:58.503076Z",
     "start_time": "2018-11-22T22:16:58.102090Z"
    }
   },
   "outputs": [
    {
     "data": {
      "text/plain": [
       "<matplotlib.legend.Legend at 0x115eb5748>"
      ]
     },
     "execution_count": 7,
     "metadata": {},
     "output_type": "execute_result"
    },
    {
     "data": {
      "image/png": "[encoded data removed]",
      "text/plain": [
       "<matplotlib.figure.Figure at 0x115ad73c8>"
      ]
     },
     "metadata": {
      "needs_background": "light"
     },
     "output_type": "display_data"
    }
   ],
   "source": [
    "plt.plot(events[:,0],events[:,2], label = 'orders')\n",
    "plt.plot(trades[:,0],trades[:,2], label = 'trades')\n",
    "plt.plot(events[:,0],FVs, label = 'Fundamental Value')\n",
    "plt.plot(events[:,0],BAs, label = 'Best ask')\n",
    "plt.plot(events[:,0],BBs, label = 'Best bid')\n",
    "plt.legend()"
   ]
  },
  {
   "cell_type": "code",
   "execution_count": 8,
   "metadata": {
    "ExecuteTime": {
     "end_time": "2018-11-22T22:17:01.522505Z",
     "start_time": "2018-11-22T22:17:01.518901Z"
    },
    "collapsed": true
   },
   "outputs": [],
   "source": [
    "#list(zip(BAs,BBs))\n",
    "#np.sort(np.array(exch.bids,dtype = [('price', int), ('t', float), ('quantity', int), ('trader', int), ('order_type', int)]),order=['price','t'])\n",
    "#np.sort(np.array(exch.asks,dtype = [('price', int), ('t', float), ('quantity', int), ('trader', int), ('order_type', int)]),order=['price','t'])\n",
    "#len(events)"
   ]
  },
  {
   "cell_type": "code",
   "execution_count": null,
   "metadata": {
    "collapsed": true
   },
   "outputs": [],
   "source": []
  }
 ],
 "metadata": {
  "kernelspec": {
   "display_name": "Python [conda env:Design]",
   "language": "python",
   "name": "conda-env-Design-py"
  },
  "language_info": {
   "codemirror_mode": {
    "name": "ipython",
    "version": 3
   },
   "file_extension": ".py",
   "mimetype": "text/x-python",
   "name": "python",
   "nbconvert_exporter": "python",
   "pygments_lexer": "ipython3",
   "version": "3.5.4"
  },
  "varInspector": {
   "cols": {
    "lenName": 16,
    "lenType": 16,
    "lenVar": 40
   },
   "kernels_config": {
    "python": {
     "delete_cmd_postfix": "",
     "delete_cmd_prefix": "del ",
     "library": "var_list.py",
     "varRefreshCmd": "print(var_dic_list())"
    },
    "r": {
     "delete_cmd_postfix": ") ",
     "delete_cmd_prefix": "rm(",
     "library": "var_list.r",
     "varRefreshCmd": "cat(var_dic_list()) "
    }
   },
   "types_to_exclude": [
    "module",
    "function",
    "builtin_function_or_method",
    "instance",
    "_Feature"
   ],
   "window_display": false
  }
 },
 "nbformat": 4,
 "nbformat_minor": 2
}
