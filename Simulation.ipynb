{
 "cells": [
  {
   "cell_type": "code",
   "execution_count": 84,
   "metadata": {
    "ExecuteTime": {
     "end_time": "2018-11-22T22:14:53.787062Z",
     "start_time": "2018-11-22T22:14:51.604880Z"
    }
   },
   "outputs": [],
   "source": [
    "% matplotlib inline\n",
    "import matplotlib.pyplot as plt\n",
    "\n",
    "import numpy as np\n",
    "from collections import namedtuple\n",
    "import heapq\n",
    "import seaborn as sns\n",
    "\n",
    "from market import SimulationClock\n",
    "from market import Exchange"
   ]
  },
  {
   "cell_type": "code",
   "execution_count": 85,
   "metadata": {
    "ExecuteTime": {
     "end_time": "2018-11-22T22:14:53.918623Z",
     "start_time": "2018-11-22T22:14:53.807278Z"
    }
   },
   "outputs": [],
   "source": [
    "def bgt_scheduler( clock, FV, p_flex, lam, order_size_bound, trader):\n",
    "    order_type = 0\n",
    "    delta_t = np.random.exponential(lam)\n",
    "    quantity = np.random.randint(1,order_size_bound+1)*np.random.choice([-1,1])\n",
    "    price = FV + np.random.randint(-p_flex,p_flex+1)\n",
    "    heapq.heappush(event_queue,[clock.time+delta_t, price,quantity,trader,order_type])\n",
    "\n",
    "def mm_scheduler(a1, a2, a3, b1, b2, b3, c1, c2, c3, d1, d2, d3, clock, lam, ba, bb, lastprice, depth, trader):\n",
    "    order_type = 0\n",
    "    delta_t = np.random.exponential(lam)\n",
    "    if lastprice >= ba:\n",
    "        quantity = a1*(lastprice - ba) + b1*depth\n",
    "        price = c1*lastprice + d1*depth\n",
    "    elif lastprice < bb:\n",
    "        quantity = a2*(lastprice - bb) - b2*depth\n",
    "        price = c2*lastprice + d2*depth\n",
    "    else:\n",
    "        quantity = 0\n",
    "        price = c3*lastprice + d3*depth\n",
    "    \n",
    "    heapq.heappush(event_queue,[clock.time+delta_t, price, quantity, trader, order_type])\n",
    "    pass\n",
    "\n",
    "def mm1_scheduler(clock, e1, f1, ba, bb, lastprice, depth, trader):\n",
    "    order_type = 0\n",
    "    lam = e1\n",
    "    delta_t = np.random.exponential(lam)\n",
    "    buy_sell_sign = np.random.choice([-1,1])\n",
    "    if buy_sell_sign > 0:\n",
    "        price = bb\n",
    "        quantity = buy_sell_sign*f1\n",
    "    else:\n",
    "        price = ba\n",
    "        quantity = buy_sell_sign*f1\n",
    "    \n",
    "    heapq.heappush(event_queue,[clock.time+delta_t, price, quantity, trader, order_type])\n",
    "    pass"
   ]
  },
  {
   "cell_type": "code",
   "execution_count": 86,
   "metadata": {
    "ExecuteTime": {
     "end_time": "2018-11-22T22:16:45.986084Z",
     "start_time": "2018-11-22T22:16:44.668855Z"
    }
   },
   "outputs": [],
   "source": [
    "# simple order generation\n",
    "\n",
    "sim_duration = 30\n",
    "burn_in = 10\n",
    "\n",
    "events = []\n",
    "FVs = []\n",
    "clk = SimulationClock()\n",
    "exch = Exchange(clk)\n",
    "BAs = []\n",
    "BBs = []\n",
    "t=0\n",
    "\n",
    "order_size_bound = 10\n",
    "FV = 10\n",
    "p_flex = 3\n",
    "p_reset = 0.01\n",
    "lam_bgt = 0.5\n",
    "lam_mm = 0.5\n",
    "\n",
    "event_queue = []\n",
    "\n",
    "#init\n",
    "for trader in range(0,10):\n",
    "    bgt_scheduler(clk, FV, p_flex, lam_bgt, order_size_bound, trader)\n",
    "\n",
    "\n",
    "\n",
    "#burn_in\n",
    "while clk.time < burn_in:\n",
    "    # execute next event\n",
    "    event = heapq.heappop(event_queue)\n",
    "    event_time, price, quantity, trader, order_type = event\n",
    "    clk.time = event_time\n",
    "    exch.post(price, quantity, trader, order_type)\n",
    "    # reset FV\n",
    "    if np.random.rand(1) < p_reset:\n",
    "        FV = price\n",
    "    # schedule new event\n",
    "    bgt_scheduler(clk, FV, p_flex, lam_bgt, order_size_bound, trader)\n",
    "    \n",
    "    # stats\n",
    "    events.append([clk.time,event[2],event[1]]) \n",
    "    FVs.append(FV)\n",
    "    ba = exch.get_best_ask()\n",
    "    bb = exch.get_best_bid()\n",
    "    if ba == None:\n",
    "        ba_price = 0\n",
    "    else:\n",
    "        ba_price = ba.price\n",
    "    if bb == None:\n",
    "        bb_price = 0\n",
    "    else:\n",
    "        bb_price = -bb.price\n",
    "    BAs.append(ba_price)\n",
    "    BBs.append(bb_price)\n",
    "\n",
    "depth = BAs[-1] - BAs[-2] - BBs[-1] + BBs[-2]\n",
    "\n",
    "a1 = np.random.uniform(0,2,100)\n",
    "a2 = np.random.uniform(0,2,100)\n",
    "a3 = np.random.uniform(0,2,100)\n",
    "b1 = np.random.uniform(0,2,100)\n",
    "b2 = np.random.uniform(0,2,100)\n",
    "b3 = np.random.uniform(0,2,100)\n",
    "c1 = np.random.uniform(0,2,100)\n",
    "c2 = np.random.uniform(0,2,100)\n",
    "c3 = np.random.uniform(0,2,100)\n",
    "d1 = np.random.uniform(0,2,100)\n",
    "d2 = np.random.uniform(0,2,100)\n",
    "d3 = np.random.uniform(0,2,100)\n",
    "\n",
    "\n",
    "#running\n",
    "for trader in range(10,110):\n",
    "    k = trader - 10\n",
    "    mm_scheduler(a1[k], a2[k],a3[k], b1[k], b2[k], b3[k], c1[k], c2[k], c3[k], d1[k], d2[k], d3[k], clk, lam_mm, BAs[-1], BBs[-1], exch.lastprice, depth, trader)\n",
    "\n",
    "while clk.time < sim_duration:\n",
    "    # execute next event\n",
    "    event = heapq.heappop(event_queue)\n",
    "    event_time, price, quantity, trader, order_type = event\n",
    "    clk.time = event_time\n",
    "    exch.post(price, quantity, trader, order_type)\n",
    "    # reset FV\n",
    "    if np.random.rand(1) < p_reset:\n",
    "        FV = price\n",
    "\n",
    "    # stats\n",
    "    events.append([clk.time,event[2],event[1]]) \n",
    "    FVs.append(FV)\n",
    "    ba = exch.get_best_ask()\n",
    "    bb = exch.get_best_bid()\n",
    "    if ba == None:\n",
    "        ba_price = 0\n",
    "    else:\n",
    "        ba_price = ba.price\n",
    "    if bb == None:\n",
    "        bb_price = 0\n",
    "    else:\n",
    "        bb_price = -bb.price\n",
    "    BAs.append(ba_price)\n",
    "    BBs.append(bb_price)\n",
    "    \n",
    "    depth = BAs[-1] - BAs[-2] - BBs[-1] + BBs[-2]\n",
    "\n",
    "    # schedule new event\n",
    "    if trader >= 10:\n",
    "        k = trader - 10\n",
    "        mm_scheduler(a1[k], a2[k],a3[k], b1[k], b2[k], b3[k], c1[k], c2[k], c3[k], d1[k], d2[k], d3[k], clk, lam_mm, BAs[-1], BBs[-1], exch.lastprice, depth, trader)\n",
    "    else:\n",
    "        bgt_scheduler(clk, FV, p_flex, lam_bgt, order_size_bound, trader)"
   ]
  },
  {
   "cell_type": "code",
   "execution_count": 87,
   "metadata": {
    "ExecuteTime": {
     "end_time": "2018-11-22T22:16:51.832794Z",
     "start_time": "2018-11-22T22:16:51.810917Z"
    },
    "scrolled": true
   },
   "outputs": [
    {
     "data": {
      "text/plain": [
       "[-18.83067642621321,\n",
       " 18.31815214832922,\n",
       " -14.738344102907986,\n",
       " 76.01341397558622,\n",
       " 29.377080855378196,\n",
       " -0.08260973045527586,\n",
       " -1.8408801995010737,\n",
       " -11.033861729189727,\n",
       " -8.563822956189803,\n",
       " 10.620384483233364,\n",
       " 0,\n",
       " 14.233449676752485,\n",
       " 35.82303131945471,\n",
       " 57.507374498907986,\n",
       " 26.634878317585212,\n",
       " 15.171230716125894,\n",
       " 20.02222100868321,\n",
       " 0.8269160747351787,\n",
       " 53.68870833181288,\n",
       " 52.56850582459153,\n",
       " 11.068035750689642,\n",
       " 3.9596777840920767,\n",
       " 15.127664061079392,\n",
       " -83.03209362043557,\n",
       " -21.361841114218855,\n",
       " 26.51566828675724,\n",
       " 33.090184498944225,\n",
       " 0,\n",
       " 46.41611291149774,\n",
       " 49.840890489401154,\n",
       " -0.025419580784094623,\n",
       " 47.04659911527344,\n",
       " -3.106821354464188,\n",
       " -0.8906265567815164,\n",
       " -17.711374345077864,\n",
       " -8.639487238745138,\n",
       " 11.54378158874467,\n",
       " 1.4712553808078705,\n",
       " 0,\n",
       " 2.5214603052221154,\n",
       " 23.517872144129775,\n",
       " 16.45023839193835,\n",
       " -10.893484612216065,\n",
       " -0.5768139155707797,\n",
       " 5.010033205450859,\n",
       " -0.23707212808934885,\n",
       " 1.1589913206809457,\n",
       " 28.39980509857039,\n",
       " 27.864257589896564,\n",
       " 22.46904006641524,\n",
       " 25.554259124965167,\n",
       " -0.834418163737926,\n",
       " 0,\n",
       " 16.559406656856606,\n",
       " 1.8864844146408561,\n",
       " 2.069006528914027,\n",
       " 72.12485845902735,\n",
       " 43.77654349670623,\n",
       " 191.95453319859115,\n",
       " 29.194570077401508,\n",
       " 64.11223268343836,\n",
       " 63.66644798517888,\n",
       " 37.654907554065495,\n",
       " 4.978314781733071,\n",
       " 56.78467130550882,\n",
       " 119.31168732953665,\n",
       " 14.790057630872639,\n",
       " 121.86351344287314,\n",
       " 30.167471382141677,\n",
       " 71.23111231687584,\n",
       " 4.128525892964525,\n",
       " 71.15177319572527,\n",
       " 1.9507058052126867,\n",
       " 11.756809513110053,\n",
       " 2.546009648525175,\n",
       " 10.855037762582155,\n",
       " 29.206616975497486,\n",
       " 15.527309981197313,\n",
       " 36.27733443648906,\n",
       " 27.269989103020162,\n",
       " 24.174091169258652,\n",
       " 6.995330147913705,\n",
       " -0.08940850891880903,\n",
       " 23.481960835323033,\n",
       " 69.23894328258257,\n",
       " 10.995901407221572,\n",
       " 41.06411405006738,\n",
       " 0,\n",
       " 32.76138478965608,\n",
       " 65.11392784933331,\n",
       " 90.03953442023777,\n",
       " -31.324192019873497,\n",
       " 11.861530781936118,\n",
       " -12.396972062574068,\n",
       " 0.06291236037466774,\n",
       " 98.19986356949664,\n",
       " 32.21708651671091,\n",
       " -10.01650769286929,\n",
       " 59.20795625144332,\n",
       " -10.116750278657904]"
      ]
     },
     "execution_count": 87,
     "metadata": {},
     "output_type": "execute_result"
    }
   ],
   "source": [
    "# profit calculation\n",
    "trades = np.array(exch.trades)\n",
    "profit=[]\n",
    "for i in range(10,110):\n",
    "    profit.append(-sum(trades[trades[:,4]==i][:,3]*trades[trades[:,4]==i][:,6]*trades[trades[:,4]==i][:,2]) + sum(trades[trades[:,5]==i][:,3]*trades[trades[:,5]==i][:,6]*trades[trades[:,5]==i][:,2]))\n",
    "profit\n",
    "#trades[trades[:,4]==i][:,3]"
   ]
  },
  {
   "cell_type": "code",
   "execution_count": 88,
   "metadata": {
    "ExecuteTime": {
     "end_time": "2018-11-22T22:16:55.902851Z",
     "start_time": "2018-11-22T22:16:55.897651Z"
    }
   },
   "outputs": [],
   "source": [
    "trades = np.array(exch.trades)\n",
    "#exch.trades"
   ]
  },
  {
   "cell_type": "code",
   "execution_count": 89,
   "metadata": {
    "ExecuteTime": {
     "end_time": "2018-11-22T22:16:57.436659Z",
     "start_time": "2018-11-22T22:16:57.428394Z"
    }
   },
   "outputs": [],
   "source": [
    "events = np.array(events)"
   ]
  },
  {
   "cell_type": "code",
   "execution_count": 90,
   "metadata": {
    "ExecuteTime": {
     "end_time": "2018-11-22T22:16:58.503076Z",
     "start_time": "2018-11-22T22:16:58.102090Z"
    }
   },
   "outputs": [
    {
     "data": {
      "text/plain": [
       "<matplotlib.legend.Legend at 0x1a20de2780>"
      ]
     },
     "execution_count": 90,
     "metadata": {},
     "output_type": "execute_result"
    },
    {
     "data": {
      "image/png": "[encoded data removed]",
      "text/plain": [
       "<Figure size 432x288 with 1 Axes>"
      ]
     },
     "metadata": {
      "needs_background": "light"
     },
     "output_type": "display_data"
    }
   ],
   "source": [
    "plt.plot(events[:,0],events[:,2], label = 'orders')\n",
    "plt.plot(trades[:,0],trades[:,2], label = 'trades')\n",
    "plt.plot(events[:,0],FVs, label = 'Fundamental Value')\n",
    "plt.plot(events[:,0],BAs, label = 'Best ask')\n",
    "plt.plot(events[:,0],BBs, label = 'Best bid')\n",
    "plt.legend()"
   ]
  },
  {
   "cell_type": "code",
   "execution_count": 91,
   "metadata": {
    "ExecuteTime": {
     "end_time": "2018-11-22T22:17:01.522505Z",
     "start_time": "2018-11-22T22:17:01.518901Z"
    }
   },
   "outputs": [],
   "source": [
    "#list(zip(BAs,BBs))\n",
    "#np.sort(np.array(exch.bids,dtype = [('price', int), ('t', float), ('quantity', int), ('trader', int), ('order_type', int)]),order=['price','t'])\n",
    "#np.sort(np.array(exch.asks,dtype = [('price', int), ('t', float), ('quantity', int), ('trader', int), ('order_type', int)]),order=['price','t'])\n",
    "#len(events)"
   ]
  },
  {
   "cell_type": "code",
   "execution_count": null,
   "metadata": {
    "collapsed": true
   },
   "outputs": [],
   "source": []
  }
 ],
 "metadata": {
  "kernelspec": {
   "display_name": "Python 3",
   "language": "python",
   "name": "python3"
  },
  "language_info": {
   "codemirror_mode": {
    "name": "ipython",
    "version": 3
   },
   "file_extension": ".py",
   "mimetype": "text/x-python",
   "name": "python",
   "nbconvert_exporter": "python",
   "pygments_lexer": "ipython3",
   "version": "3.7.0"
  },
  "varInspector": {
   "cols": {
    "lenName": 16,
    "lenType": 16,
    "lenVar": 40
   },
   "kernels_config": {
    "python": {
     "delete_cmd_postfix": "",
     "delete_cmd_prefix": "del ",
     "library": "var_list.py",
     "varRefreshCmd": "print(var_dic_list())"
    },
    "r": {
     "delete_cmd_postfix": ") ",
     "delete_cmd_prefix": "rm(",
     "library": "var_list.r",
     "varRefreshCmd": "cat(var_dic_list()) "
    }
   },
   "types_to_exclude": [
    "module",
    "function",
    "builtin_function_or_method",
    "instance",
    "_Feature"
   ],
   "window_display": false
  }
 },
 "nbformat": 4,
 "nbformat_minor": 2
}
