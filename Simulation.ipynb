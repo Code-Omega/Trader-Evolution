{
 "cells": [
  {
   "cell_type": "code",
   "execution_count": 2,
   "metadata": {
    "ExecuteTime": {
     "end_time": "2018-11-22T22:14:53.787062Z",
     "start_time": "2018-11-22T22:14:51.604880Z"
    }
   },
   "outputs": [],
   "source": [
    "% matplotlib inline\n",
    "import matplotlib.pyplot as plt\n",
    "\n",
    "import numpy as np\n",
    "from collections import namedtuple\n",
    "import heapq\n",
    "import seaborn as sns\n",
    "\n",
    "from market import SimulationClock\n",
    "from market import Exchange"
   ]
  },
  {
   "cell_type": "code",
   "execution_count": 3,
   "metadata": {
    "ExecuteTime": {
     "end_time": "2018-11-22T22:14:53.918623Z",
     "start_time": "2018-11-22T22:14:53.807278Z"
    }
   },
   "outputs": [],
   "source": [
    "def bgt_scheduler( clock, FV, p_flex, lam, order_size_bound, trader):\n",
    "    order_type = 0\n",
    "    delta_t = np.random.exponential(lam)\n",
    "    quantity = np.random.randint(1,order_size_bound+1)*np.random.choice([-1,1])\n",
    "    price = FV + np.random.randint(-p_flex,p_flex+1)\n",
    "    heapq.heappush(event_queue,[clock.time+delta_t, price,quantity,trader,order_type])\n",
    "\n",
    "def mm_scheduler(a1, a2, a3, b1, b2, b3, c1, c2, c3, d1, d2, d3, clock, lam, ba, bb, lastprice, depth, trader):\n",
    "    order_type = 0\n",
    "    delta_t = np.random.exponential(lam)\n",
    "    if lastprice >= ba:\n",
    "        quantity = a1*(lastprice - ba) + b1*depth\n",
    "        price = c1*lastprice + d1*depth\n",
    "    elif lastprice < bb:\n",
    "        quantity = a2*(lastprice - bb) - b2*depth\n",
    "        price = c2*lastprice + d2*depth\n",
    "    else:\n",
    "        quantity = 0\n",
    "        price = c3*lastprice + d3*depth\n",
    "    \n",
    "    heapq.heappush(event_queue,[clock.time+delta_t, price, quantity, trader, order_type])\n",
    "    pass\n",
    "\n",
    "def mm1_scheduler(clock, e1, f1, ba, bb, trader):\n",
    "    order_type = 0\n",
    "    lam = e1\n",
    "    delta_t = np.random.exponential(lam)\n",
    "    buy_sell_sign = np.random.choice([-1,1])\n",
    "    if buy_sell_sign > 0:\n",
    "        price = bb\n",
    "        quantity = buy_sell_sign*f1\n",
    "    else:\n",
    "        price = ba\n",
    "        quantity = buy_sell_sign*f1\n",
    "    \n",
    "    heapq.heappush(event_queue,[clock.time+delta_t, price, quantity, trader, order_type])\n",
    "    pass\n",
    "\n"
   ]
  },
  {
   "cell_type": "code",
   "execution_count": 5,
   "metadata": {
    "ExecuteTime": {
     "end_time": "2018-11-22T22:16:45.986084Z",
     "start_time": "2018-11-22T22:16:44.668855Z"
    }
   },
   "outputs": [],
   "source": [
    "generations = 10\n",
    "population = 100\n",
    "selection = 10\n",
    "n_params = 2\n",
    "mutation_rate = 0.5\n",
    "\n",
    "# simple order generation\n",
    "\n",
    "sim_duration = 30\n",
    "burn_in = 10\n",
    "\n",
    "events = []\n",
    "FVs = []\n",
    "clk = SimulationClock()\n",
    "exch = Exchange(clk)\n",
    "BAs = []\n",
    "BBs = []\n",
    "t=0\n",
    "\n",
    "order_size_bound = 10\n",
    "FV = 10\n",
    "p_flex = 3\n",
    "p_reset = 0.01\n",
    "lam_bgt = 0.5\n",
    "lam_mm = 0.5\n",
    "\n",
    "event_queue = []\n",
    "\n",
    "#init\n",
    "for trader in range(0,10):\n",
    "    bgt_scheduler(clk, FV, p_flex, lam_bgt, order_size_bound, trader)\n",
    "\n",
    "\n",
    "\n",
    "#burn_in\n",
    "while clk.time < burn_in:\n",
    "    # execute next event\n",
    "    event = heapq.heappop(event_queue)\n",
    "    event_time, price, quantity, trader, order_type = event\n",
    "    clk.time = event_time\n",
    "    exch.post(price, quantity, trader, order_type)\n",
    "    # reset FV\n",
    "    if np.random.rand(1) < p_reset:\n",
    "        FV = price\n",
    "    # schedule new event\n",
    "    bgt_scheduler(clk, FV, p_flex, lam_bgt, order_size_bound, trader)\n",
    "    \n",
    "    # stats\n",
    "    events.append([clk.time,event[2],event[1]]) \n",
    "    FVs.append(FV)\n",
    "    ba = exch.get_best_ask()\n",
    "    bb = exch.get_best_bid()\n",
    "    if ba == None:\n",
    "        ba_price = 0\n",
    "    else:\n",
    "        ba_price = ba.price\n",
    "    if bb == None:\n",
    "        bb_price = 0\n",
    "    else:\n",
    "        bb_price = -bb.price\n",
    "    BAs.append(ba_price)\n",
    "    BBs.append(bb_price)\n",
    "\n",
    "depth = BAs[-1] - BAs[-2] - BBs[-1] + BBs[-2]\n",
    "\n",
    "a1 = np.random.uniform(0,2,100)\n",
    "a2 = np.random.uniform(0,2,100)\n",
    "a3 = np.random.uniform(0,2,100)\n",
    "b1 = np.random.uniform(0,2,100)\n",
    "b2 = np.random.uniform(0,2,100)\n",
    "b3 = np.random.uniform(0,2,100)\n",
    "c1 = np.random.uniform(0,2,100)\n",
    "c2 = np.random.uniform(0,2,100)\n",
    "c3 = np.random.uniform(0,2,100)\n",
    "d1 = np.random.uniform(0,2,100)\n",
    "d2 = np.random.uniform(0,2,100)\n",
    "d3 = np.random.uniform(0,2,100)\n",
    "e1 = np.random.uniform(0,1,100)\n",
    "f1 = np.random.uniform(0,10,100)\n",
    "\n",
    "#running\n",
    "# for trader in range(10,110):\n",
    "#     k = trader - 10\n",
    "#     mm_scheduler(a1[k], a2[k],a3[k], b1[k], b2[k], b3[k], c1[k], c2[k], c3[k], d1[k], d2[k], d3[k], clk, lam_mm, BAs[-1], BBs[-1], exch.lastprice, depth, trader)\n",
    "\n",
    "for trader in range(10,110):\n",
    "    k = trader - 10\n",
    "    mm1_scheduler(clk, e1[k], f1[k], BAs[-1], BBs[-1], trader)\n",
    "\n",
    "while clk.time < sim_duration:\n",
    "    # execute next event\n",
    "    event = heapq.heappop(event_queue)\n",
    "    event_time, price, quantity, trader, order_type = event\n",
    "    clk.time = event_time\n",
    "    exch.post(price, quantity, trader, order_type)\n",
    "    # reset FV\n",
    "    if np.random.rand(1) < p_reset:\n",
    "        FV = price\n",
    "\n",
    "    # stats\n",
    "    events.append([clk.time,event[2],event[1]]) \n",
    "    FVs.append(FV)\n",
    "    ba = exch.get_best_ask()\n",
    "    bb = exch.get_best_bid()\n",
    "    if ba == None:\n",
    "        ba_price = 0\n",
    "    else:\n",
    "        ba_price = ba.price\n",
    "    if bb == None:\n",
    "        bb_price = 0\n",
    "    else:\n",
    "        bb_price = -bb.price\n",
    "    BAs.append(ba_price)\n",
    "    BBs.append(bb_price)\n",
    "    \n",
    "    depth = BAs[-1] - BAs[-2] - BBs[-1] + BBs[-2]\n",
    "\n",
    "    # schedule new event\n",
    "#     if trader >= 10:\n",
    "#         k = trader - 10\n",
    "#         mm_scheduler(a1[k], a2[k],a3[k], b1[k], b2[k], b3[k], c1[k], c2[k], c3[k], d1[k], d2[k], d3[k], clk, lam_mm, BAs[-1], BBs[-1], exch.lastprice, depth, trader)\n",
    "    if trader >= 10:\n",
    "        k = trader - 10\n",
    "        mm1_scheduler(clk, e1[k], f1[k], BAs[-1], BBs[-1], trader)        \n",
    "    else:\n",
    "        bgt_scheduler(clk, FV, p_flex, lam_bgt, order_size_bound, trader)"
   ]
  },
  {
   "cell_type": "code",
   "execution_count": 6,
   "metadata": {
    "ExecuteTime": {
     "end_time": "2018-11-22T22:16:51.832794Z",
     "start_time": "2018-11-22T22:16:51.810917Z"
    },
    "scrolled": true
   },
   "outputs": [
    {
     "data": {
      "text/plain": [
       "[0,\n",
       " 0,\n",
       " 8.3134165490405,\n",
       " 7.105427357601002e-15,\n",
       " 0,\n",
       " 15.797751705366657,\n",
       " 0,\n",
       " 0,\n",
       " 0,\n",
       " 0.0,\n",
       " 7.105427357601002e-15,\n",
       " 0.0,\n",
       " 0,\n",
       " 0.0,\n",
       " 0.39074103893552814,\n",
       " 4.6553556426532055,\n",
       " 5.181646596168651,\n",
       " 0,\n",
       " 2.419280914861467,\n",
       " 4.728029489962424,\n",
       " 7.550315460813273,\n",
       " 11.631755817272904,\n",
       " 8.247012710773163,\n",
       " 3.966366470483951,\n",
       " 7.105427357601002e-15,\n",
       " 0,\n",
       " 0,\n",
       " 0.0,\n",
       " 1.4105537623594202,\n",
       " 0,\n",
       " 13.976547834927096,\n",
       " 8.899049253376106,\n",
       " 5.220667060017604,\n",
       " 9.4445697087246,\n",
       " 0,\n",
       " 1.5244416303050468,\n",
       " 8.099042375622474,\n",
       " 1.8525902839401809,\n",
       " 0,\n",
       " 0,\n",
       " 0,\n",
       " 2.038845653135491,\n",
       " 8.523573811981109,\n",
       " 6.696694072097216,\n",
       " 0,\n",
       " 0.0,\n",
       " 2.335069661762951,\n",
       " 228.77017463652174,\n",
       " 7.105427357601002e-15,\n",
       " 2.958755789905382,\n",
       " 5.27989149325483,\n",
       " 0.009200328063949659,\n",
       " 0,\n",
       " 0,\n",
       " 0.3695453571297582,\n",
       " 1.6445120757854426,\n",
       " 3.552713678800501e-15,\n",
       " 0,\n",
       " 3.416507230165987,\n",
       " 0,\n",
       " 0,\n",
       " 2.6930070518704525,\n",
       " 6.432756721776585,\n",
       " 0.3568394545134215,\n",
       " 9.74787866834528,\n",
       " 0.0,\n",
       " 4.106560381777381,\n",
       " 34.84047326529378,\n",
       " 0,\n",
       " 7.105427357601002e-15,\n",
       " 17.543888644642536,\n",
       " 0,\n",
       " 0,\n",
       " 0,\n",
       " 0,\n",
       " -3.552713678800501e-15,\n",
       " 6.815938711494056,\n",
       " 1.9148433240058331,\n",
       " 0,\n",
       " 5.170888198770982,\n",
       " 2.48226618919481,\n",
       " 0,\n",
       " 0,\n",
       " 4.442719831084691,\n",
       " 0,\n",
       " 49.15551603531321,\n",
       " 10.712173037613312,\n",
       " 0,\n",
       " 4.252446441817359,\n",
       " 0,\n",
       " 15.524431467832109,\n",
       " 0.0,\n",
       " 5.999727544100651,\n",
       " 2.5942276740695434,\n",
       " 15.073906260582156,\n",
       " 0.0,\n",
       " 9.408837273859135,\n",
       " 0.0,\n",
       " 0.0,\n",
       " 11.37876940663466]"
      ]
     },
     "execution_count": 6,
     "metadata": {},
     "output_type": "execute_result"
    }
   ],
   "source": [
    "# profit calculation\n",
    "trades = np.array(exch.trades)\n",
    "profit=[]\n",
    "for i in range(10,110):\n",
    "    profit.append(-sum(trades[trades[:,4]==i][:,3]*trades[trades[:,4]==i][:,6]*trades[trades[:,4]==i][:,2]) \n",
    "                  + sum(trades[trades[:,5]==i][:,3]*trades[trades[:,5]==i][:,6]*trades[trades[:,5]==i][:,2])\n",
    "                  + (sum(trades[trades[:,4]==i][:,3]*trades[trades[:,4]==i][:,6])\n",
    "                  - sum(trades[trades[:,5]==i][:,3]*trades[trades[:,5]==i][:,6]))*exch.lastprice)\n",
    "profit\n"
   ]
  },
  {
   "cell_type": "code",
   "execution_count": 128,
   "metadata": {
    "ExecuteTime": {
     "end_time": "2018-11-22T22:16:55.902851Z",
     "start_time": "2018-11-22T22:16:55.897651Z"
    }
   },
   "outputs": [],
   "source": [
    "trades = np.array(exch.trades)\n",
    "#exch.trades"
   ]
  },
  {
   "cell_type": "code",
   "execution_count": 129,
   "metadata": {
    "ExecuteTime": {
     "end_time": "2018-11-22T22:16:57.436659Z",
     "start_time": "2018-11-22T22:16:57.428394Z"
    }
   },
   "outputs": [],
   "source": [
    "events = np.array(events)"
   ]
  },
  {
   "cell_type": "code",
   "execution_count": 130,
   "metadata": {
    "ExecuteTime": {
     "end_time": "2018-11-22T22:16:58.503076Z",
     "start_time": "2018-11-22T22:16:58.102090Z"
    }
   },
   "outputs": [
    {
     "data": {
      "text/plain": [
       "<matplotlib.legend.Legend at 0x1a215c2dd8>"
      ]
     },
     "execution_count": 130,
     "metadata": {},
     "output_type": "execute_result"
    },
    {
     "data": {
      "image/png": "[encoded data removed]",
      "text/plain": [
       "<Figure size 432x288 with 1 Axes>"
      ]
     },
     "metadata": {
      "needs_background": "light"
     },
     "output_type": "display_data"
    }
   ],
   "source": [
    "plt.plot(events[:,0],events[:,2], label = 'orders')\n",
    "plt.plot(trades[:,0],trades[:,2], label = 'trades')\n",
    "plt.plot(events[:,0],FVs, label = 'Fundamental Value')\n",
    "plt.plot(events[:,0],BAs, label = 'Best ask')\n",
    "plt.plot(events[:,0],BBs, label = 'Best bid')\n",
    "plt.legend()"
   ]
  },
  {
   "cell_type": "code",
   "execution_count": 131,
   "metadata": {
    "ExecuteTime": {
     "end_time": "2018-11-22T22:17:01.522505Z",
     "start_time": "2018-11-22T22:17:01.518901Z"
    }
   },
   "outputs": [],
   "source": [
    "#list(zip(BAs,BBs))\n",
    "#np.sort(np.array(exch.bids,dtype = [('price', int), ('t', float), ('quantity', int), ('trader', int), ('order_type', int)]),order=['price','t'])\n",
    "#np.sort(np.array(exch.asks,dtype = [('price', int), ('t', float), ('quantity', int), ('trader', int), ('order_type', int)]),order=['price','t'])\n",
    "#len(events)"
   ]
  },
  {
   "cell_type": "code",
   "execution_count": null,
   "metadata": {
    "collapsed": true
   },
   "outputs": [],
   "source": []
  }
 ],
 "metadata": {
  "kernelspec": {
   "display_name": "Python 3",
   "language": "python",
   "name": "python3"
  },
  "language_info": {
   "codemirror_mode": {
    "name": "ipython",
    "version": 3
   },
   "file_extension": ".py",
   "mimetype": "text/x-python",
   "name": "python",
   "nbconvert_exporter": "python",
   "pygments_lexer": "ipython3",
   "version": "3.7.0"
  },
  "varInspector": {
   "cols": {
    "lenName": 16,
    "lenType": 16,
    "lenVar": 40
   },
   "kernels_config": {
    "python": {
     "delete_cmd_postfix": "",
     "delete_cmd_prefix": "del ",
     "library": "var_list.py",
     "varRefreshCmd": "print(var_dic_list())"
    },
    "r": {
     "delete_cmd_postfix": ") ",
     "delete_cmd_prefix": "rm(",
     "library": "var_list.r",
     "varRefreshCmd": "cat(var_dic_list()) "
    }
   },
   "types_to_exclude": [
    "module",
    "function",
    "builtin_function_or_method",
    "instance",
    "_Feature"
   ],
   "window_display": false
  }
 },
 "nbformat": 4,
 "nbformat_minor": 2
}
