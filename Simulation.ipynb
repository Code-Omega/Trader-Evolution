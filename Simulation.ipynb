{
 "cells": [
  {
   "cell_type": "code",
   "execution_count": 110,
   "metadata": {
    "ExecuteTime": {
     "end_time": "2018-11-22T22:14:53.787062Z",
     "start_time": "2018-11-22T22:14:51.604880Z"
    }
   },
   "outputs": [],
   "source": [
    "% matplotlib inline\n",
    "import matplotlib.pyplot as plt\n",
    "\n",
    "import numpy as np\n",
    "from collections import namedtuple\n",
    "import heapq\n",
    "import seaborn as sns\n",
    "\n",
    "from market import SimulationClock\n",
    "from market import Exchange"
   ]
  },
  {
   "cell_type": "code",
   "execution_count": 111,
   "metadata": {
    "ExecuteTime": {
     "end_time": "2018-11-22T22:14:53.918623Z",
     "start_time": "2018-11-22T22:14:53.807278Z"
    }
   },
   "outputs": [],
   "source": [
    "def bgt_scheduler( clock, FV, p_flex, lam, order_size_bound, trader):\n",
    "    order_type = 0\n",
    "    delta_t = np.random.exponential(lam)\n",
    "    quantity = np.random.randint(1,order_size_bound+1)*np.random.choice([-1,1])\n",
    "    price = FV + np.random.randint(-p_flex,p_flex+1)\n",
    "    heapq.heappush(event_queue,[clock.time+delta_t, price,quantity,trader,order_type])\n",
    "\n",
    "def mm_scheduler(a1, a2, a3, b1, b2, b3, c1, c2, c3, d1, d2, d3, clock, lam, ba, bb, lastprice, depth, trader):\n",
    "    order_type = 0\n",
    "    delta_t = np.random.exponential(lam)\n",
    "    if lastprice >= ba:\n",
    "        quantity = a1*(lastprice - ba) + b1*depth\n",
    "        price = c1*lastprice + d1*depth\n",
    "    elif lastprice < bb:\n",
    "        quantity = a2*(lastprice - bb) - b2*depth\n",
    "        price = c2*lastprice + d2*depth\n",
    "    else:\n",
    "        quantity = 0\n",
    "        price = c3*lastprice + d3*depth\n",
    "    \n",
    "    heapq.heappush(event_queue,[clock.time+delta_t, price, quantity, trader, order_type])\n",
    "    pass\n",
    "\n",
    "def mm1_scheduler(clock, e1, f1, ba, bb, trader):\n",
    "    order_type = 0\n",
    "    lam = e1\n",
    "    delta_t = np.random.exponential(lam)\n",
    "    buy_sell_sign = np.random.choice([-1,1])\n",
    "    if buy_sell_sign > 0:\n",
    "        price = bb\n",
    "        quantity = buy_sell_sign*f1\n",
    "    else:\n",
    "        price = ba\n",
    "        quantity = buy_sell_sign*f1\n",
    "    \n",
    "    heapq.heappush(event_queue,[clock.time+delta_t, price, quantity, trader, order_type])\n",
    "    pass\n",
    "\n"
   ]
  },
  {
   "cell_type": "code",
   "execution_count": 112,
   "metadata": {
    "ExecuteTime": {
     "end_time": "2018-11-22T22:16:45.986084Z",
     "start_time": "2018-11-22T22:16:44.668855Z"
    }
   },
   "outputs": [],
   "source": [
    "# simple order generation\n",
    "\n",
    "sim_duration = 30\n",
    "burn_in = 10\n",
    "\n",
    "events = []\n",
    "FVs = []\n",
    "clk = SimulationClock()\n",
    "exch = Exchange(clk)\n",
    "BAs = []\n",
    "BBs = []\n",
    "t=0\n",
    "\n",
    "order_size_bound = 10\n",
    "FV = 10\n",
    "p_flex = 3\n",
    "p_reset = 0.01\n",
    "lam_bgt = 0.5\n",
    "lam_mm = 0.5\n",
    "\n",
    "event_queue = []\n",
    "\n",
    "#init\n",
    "for trader in range(0,10):\n",
    "    bgt_scheduler(clk, FV, p_flex, lam_bgt, order_size_bound, trader)\n",
    "\n",
    "\n",
    "\n",
    "#burn_in\n",
    "while clk.time < burn_in:\n",
    "    # execute next event\n",
    "    event = heapq.heappop(event_queue)\n",
    "    event_time, price, quantity, trader, order_type = event\n",
    "    clk.time = event_time\n",
    "    exch.post(price, quantity, trader, order_type)\n",
    "    # reset FV\n",
    "    if np.random.rand(1) < p_reset:\n",
    "        FV = price\n",
    "    # schedule new event\n",
    "    bgt_scheduler(clk, FV, p_flex, lam_bgt, order_size_bound, trader)\n",
    "    \n",
    "    # stats\n",
    "    events.append([clk.time,event[2],event[1]]) \n",
    "    FVs.append(FV)\n",
    "    ba = exch.get_best_ask()\n",
    "    bb = exch.get_best_bid()\n",
    "    if ba == None:\n",
    "        ba_price = 0\n",
    "    else:\n",
    "        ba_price = ba.price\n",
    "    if bb == None:\n",
    "        bb_price = 0\n",
    "    else:\n",
    "        bb_price = -bb.price\n",
    "    BAs.append(ba_price)\n",
    "    BBs.append(bb_price)\n",
    "\n",
    "depth = BAs[-1] - BAs[-2] - BBs[-1] + BBs[-2]\n",
    "\n",
    "a1 = np.random.uniform(0,2,100)\n",
    "a2 = np.random.uniform(0,2,100)\n",
    "a3 = np.random.uniform(0,2,100)\n",
    "b1 = np.random.uniform(0,2,100)\n",
    "b2 = np.random.uniform(0,2,100)\n",
    "b3 = np.random.uniform(0,2,100)\n",
    "c1 = np.random.uniform(0,2,100)\n",
    "c2 = np.random.uniform(0,2,100)\n",
    "c3 = np.random.uniform(0,2,100)\n",
    "d1 = np.random.uniform(0,2,100)\n",
    "d2 = np.random.uniform(0,2,100)\n",
    "d3 = np.random.uniform(0,2,100)\n",
    "\n",
    "\n",
    "#running\n",
    "for trader in range(10,110):\n",
    "    k = trader - 10\n",
    "    mm_scheduler(a1[k], a2[k],a3[k], b1[k], b2[k], b3[k], c1[k], c2[k], c3[k], d1[k], d2[k], d3[k], clk, lam_mm, BAs[-1], BBs[-1], exch.lastprice, depth, trader)\n",
    "\n",
    "while clk.time < sim_duration:\n",
    "    # execute next event\n",
    "    event = heapq.heappop(event_queue)\n",
    "    event_time, price, quantity, trader, order_type = event\n",
    "    clk.time = event_time\n",
    "    exch.post(price, quantity, trader, order_type)\n",
    "    # reset FV\n",
    "    if np.random.rand(1) < p_reset:\n",
    "        FV = price\n",
    "\n",
    "    # stats\n",
    "    events.append([clk.time,event[2],event[1]]) \n",
    "    FVs.append(FV)\n",
    "    ba = exch.get_best_ask()\n",
    "    bb = exch.get_best_bid()\n",
    "    if ba == None:\n",
    "        ba_price = 0\n",
    "    else:\n",
    "        ba_price = ba.price\n",
    "    if bb == None:\n",
    "        bb_price = 0\n",
    "    else:\n",
    "        bb_price = -bb.price\n",
    "    BAs.append(ba_price)\n",
    "    BBs.append(bb_price)\n",
    "    \n",
    "    depth = BAs[-1] - BAs[-2] - BBs[-1] + BBs[-2]\n",
    "\n",
    "    # schedule new event\n",
    "    if trader >= 10:\n",
    "        k = trader - 10\n",
    "        mm_scheduler(a1[k], a2[k],a3[k], b1[k], b2[k], b3[k], c1[k], c2[k], c3[k], d1[k], d2[k], d3[k], clk, lam_mm, BAs[-1], BBs[-1], exch.lastprice, depth, trader)\n",
    "    else:\n",
    "        bgt_scheduler(clk, FV, p_flex, lam_bgt, order_size_bound, trader)"
   ]
  },
  {
   "cell_type": "code",
   "execution_count": 113,
   "metadata": {
    "ExecuteTime": {
     "end_time": "2018-11-22T22:16:51.832794Z",
     "start_time": "2018-11-22T22:16:51.810917Z"
    },
    "scrolled": true
   },
   "outputs": [
    {
     "data": {
      "text/plain": [
       "[0.7906705130186464,\n",
       " 10.033815194192847,\n",
       " 30.933850283468253,\n",
       " 6.270439503691396,\n",
       " -6.287216256059879,\n",
       " 0.7006977195405641,\n",
       " -7.5439274691272,\n",
       " 7.434979408359206,\n",
       " 8.656034740207307,\n",
       " 2.110492769875756,\n",
       " 11.16773963383135,\n",
       " 1.6230537968258691,\n",
       " -9.271813927305915,\n",
       " 0.9329612030479445,\n",
       " 5.926594593338895,\n",
       " 3.9692782393924837,\n",
       " 5.906851053215312,\n",
       " 13.714450266209953,\n",
       " 12.104035992293976,\n",
       " 10.322281612686224,\n",
       " 17.253461381627506,\n",
       " -1.2766435550821786,\n",
       " 3.3827029671186555,\n",
       " 8.35821990121753,\n",
       " -6.328197806147176,\n",
       " 26.516503948532257,\n",
       " -13.836367022088691,\n",
       " 2.4763586575886287,\n",
       " 27.446452795212377,\n",
       " 24.736407556317605,\n",
       " 17.562562818656286,\n",
       " 33.019157232452876,\n",
       " -2.3848092342777645,\n",
       " 1.8220126531778986,\n",
       " 27.478117252468458,\n",
       " 30.03840808206694,\n",
       " -0.7133715111703933,\n",
       " 2.823156100412358,\n",
       " 11.623952027510546,\n",
       " -0.47922316670036896,\n",
       " -14.45396317113805,\n",
       " 4.445949931531958,\n",
       " 0.5296502930366511,\n",
       " 11.724214140634697,\n",
       " 28.48799382498908,\n",
       " -0.42703371460921696,\n",
       " 6.116022048224563,\n",
       " 22.75350363263902,\n",
       " 6.933671810948251,\n",
       " 3.6267035529923093,\n",
       " -7.226122927065808,\n",
       " 11.525188752485327,\n",
       " 14.146884178488678,\n",
       " 0.8102524487553523,\n",
       " 0.3378343222385781,\n",
       " -5.113024903437072,\n",
       " 50.281767661260005,\n",
       " 4.271894294541892,\n",
       " 3.1619353204166734,\n",
       " 31.418167870481923,\n",
       " 10.902271166907822,\n",
       " 4.392762362939588,\n",
       " 11.3190013642116,\n",
       " 14.162622763491301,\n",
       " 0.4705513616969784,\n",
       " -4.144479082369207,\n",
       " 20.54786289939692,\n",
       " -2.46810462160866,\n",
       " 7.395209308943552,\n",
       " 7.422276112036518,\n",
       " 28.62757837385237,\n",
       " 30.30790426836574,\n",
       " -5.572634157340754,\n",
       " -4.769970012823068,\n",
       " -27.957548788390888,\n",
       " 8.736213022575097,\n",
       " 5.539502402100591,\n",
       " 6.443260616221403,\n",
       " -12.18202405961538,\n",
       " 35.05562623233606,\n",
       " 5.8011306255882635,\n",
       " -0.14078720891744104,\n",
       " -2.9900434962190006,\n",
       " 1.1837686817828024,\n",
       " 15.827864198405681,\n",
       " 40.42730308364349,\n",
       " 0.06897924232327483,\n",
       " 4.510575949639943,\n",
       " 2.894497632967342,\n",
       " 3.5577896493064802,\n",
       " 8.31152512875653,\n",
       " 41.145206863127726,\n",
       " 8.91665455060328,\n",
       " 23.42323598941137,\n",
       " 16.52305262062284,\n",
       " 6.211885085777454,\n",
       " 5.8053805258917235,\n",
       " -10.41004526391913,\n",
       " -1.204424705414037,\n",
       " 11.81066088054479]"
      ]
     },
     "execution_count": 113,
     "metadata": {},
     "output_type": "execute_result"
    }
   ],
   "source": [
    "# profit calculation\n",
    "trades = np.array(exch.trades)\n",
    "profit=[]\n",
    "for i in range(10,110):\n",
    "    profit.append(-sum(trades[trades[:,4]==i][:,3]*trades[trades[:,4]==i][:,6]*trades[trades[:,4]==i][:,2]) \n",
    "                  + sum(trades[trades[:,5]==i][:,3]*trades[trades[:,5]==i][:,6]*trades[trades[:,5]==i][:,2])\n",
    "                  + (sum(trades[trades[:,4]==i][:,3]*trades[trades[:,4]==i][:,6])\n",
    "                  - sum(trades[trades[:,5]==i][:,3]*trades[trades[:,5]==i][:,6]))*exch.lastprice)\n",
    "profit\n"
   ]
  },
  {
   "cell_type": "code",
   "execution_count": 114,
   "metadata": {
    "ExecuteTime": {
     "end_time": "2018-11-22T22:16:55.902851Z",
     "start_time": "2018-11-22T22:16:55.897651Z"
    }
   },
   "outputs": [],
   "source": [
    "trades = np.array(exch.trades)\n",
    "#exch.trades"
   ]
  },
  {
   "cell_type": "code",
   "execution_count": 115,
   "metadata": {
    "ExecuteTime": {
     "end_time": "2018-11-22T22:16:57.436659Z",
     "start_time": "2018-11-22T22:16:57.428394Z"
    }
   },
   "outputs": [],
   "source": [
    "events = np.array(events)"
   ]
  },
  {
   "cell_type": "code",
   "execution_count": 116,
   "metadata": {
    "ExecuteTime": {
     "end_time": "2018-11-22T22:16:58.503076Z",
     "start_time": "2018-11-22T22:16:58.102090Z"
    }
   },
   "outputs": [
    {
     "data": {
      "text/plain": [
       "<matplotlib.legend.Legend at 0x1a20c2b7f0>"
      ]
     },
     "execution_count": 116,
     "metadata": {},
     "output_type": "execute_result"
    },
    {
     "data": {
      "image/png": "[encoded data removed]",
      "text/plain": [
       "<Figure size 432x288 with 1 Axes>"
      ]
     },
     "metadata": {
      "needs_background": "light"
     },
     "output_type": "display_data"
    }
   ],
   "source": [
    "plt.plot(events[:,0],events[:,2], label = 'orders')\n",
    "plt.plot(trades[:,0],trades[:,2], label = 'trades')\n",
    "plt.plot(events[:,0],FVs, label = 'Fundamental Value')\n",
    "plt.plot(events[:,0],BAs, label = 'Best ask')\n",
    "plt.plot(events[:,0],BBs, label = 'Best bid')\n",
    "plt.legend()"
   ]
  },
  {
   "cell_type": "code",
   "execution_count": 91,
   "metadata": {
    "ExecuteTime": {
     "end_time": "2018-11-22T22:17:01.522505Z",
     "start_time": "2018-11-22T22:17:01.518901Z"
    }
   },
   "outputs": [],
   "source": [
    "#list(zip(BAs,BBs))\n",
    "#np.sort(np.array(exch.bids,dtype = [('price', int), ('t', float), ('quantity', int), ('trader', int), ('order_type', int)]),order=['price','t'])\n",
    "#np.sort(np.array(exch.asks,dtype = [('price', int), ('t', float), ('quantity', int), ('trader', int), ('order_type', int)]),order=['price','t'])\n",
    "#len(events)"
   ]
  },
  {
   "cell_type": "code",
   "execution_count": null,
   "metadata": {
    "collapsed": true
   },
   "outputs": [],
   "source": []
  }
 ],
 "metadata": {
  "kernelspec": {
   "display_name": "Python 3",
   "language": "python",
   "name": "python3"
  },
  "language_info": {
   "codemirror_mode": {
    "name": "ipython",
    "version": 3
   },
   "file_extension": ".py",
   "mimetype": "text/x-python",
   "name": "python",
   "nbconvert_exporter": "python",
   "pygments_lexer": "ipython3",
   "version": "3.7.0"
  },
  "varInspector": {
   "cols": {
    "lenName": 16,
    "lenType": 16,
    "lenVar": 40
   },
   "kernels_config": {
    "python": {
     "delete_cmd_postfix": "",
     "delete_cmd_prefix": "del ",
     "library": "var_list.py",
     "varRefreshCmd": "print(var_dic_list())"
    },
    "r": {
     "delete_cmd_postfix": ") ",
     "delete_cmd_prefix": "rm(",
     "library": "var_list.r",
     "varRefreshCmd": "cat(var_dic_list()) "
    }
   },
   "types_to_exclude": [
    "module",
    "function",
    "builtin_function_or_method",
    "instance",
    "_Feature"
   ],
   "window_display": false
  }
 },
 "nbformat": 4,
 "nbformat_minor": 2
}
